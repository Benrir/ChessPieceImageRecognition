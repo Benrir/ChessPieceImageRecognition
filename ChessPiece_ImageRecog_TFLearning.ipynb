{
  "nbformat": 4,
  "nbformat_minor": 0,
  "metadata": {
    "colab": {
      "provenance": []
    },
    "kernelspec": {
      "name": "python3",
      "display_name": "Python 3"
    },
    "language_info": {
      "name": "python"
    },
    "accelerator": "GPU",
    "gpuClass": "standard"
  },
  "cells": [
    {
      "cell_type": "code",
      "execution_count": 11,
      "metadata": {
        "colab": {
          "base_uri": "https://localhost:8080/"
        },
        "id": "2T54Tm98ZPTs",
        "outputId": "1e6f5c4a-18fa-4a18-ad96-00284ac44548"
      },
      "outputs": [
        {
          "output_type": "stream",
          "name": "stderr",
          "text": [
            "Downloading...\n",
            "From: https://drive.google.com/uc?id=1xMG984Rvne3bqmFJjhcKoEMrbFxv3NPn\n",
            "To: /content/dataset.zip\n",
            "100%|██████████| 4.50M/4.50M [00:00<00:00, 256MB/s]\n"
          ]
        }
      ],
      "source": [
        "import os\n",
        "import gdown\n",
        "import zipfile\n",
        "\n",
        "def gdrive_download(file_id: str,out_dir: str):\n",
        "  url = \"https://drive.google.com/uc?id=\" + file_id\n",
        "  output = 'dataset.zip'\n",
        "  gdown.download(url, output, quiet=False,fuzzy=True)\n",
        "  with zipfile.ZipFile(output, 'r') as zip_ref:\n",
        "      zip_ref.extractall(out_dir)\n",
        "\n",
        "dataset_dir = \"dataset\"\n",
        "gdrive_download(file_id=\"1xMG984Rvne3bqmFJjhcKoEMrbFxv3NPn\", out_dir = dataset_dir)\n",
        "DATA_PATH = os.path.join(dataset_dir,\"data\")"
      ]
    },
    {
      "cell_type": "code",
      "source": [
        "!pip install Pillow"
      ],
      "metadata": {
        "colab": {
          "base_uri": "https://localhost:8080/"
        },
        "id": "tIXOu4oTcHQT",
        "outputId": "d2d9a258-8a9b-40d8-cf39-3676b645f321"
      },
      "execution_count": 2,
      "outputs": [
        {
          "output_type": "stream",
          "name": "stdout",
          "text": [
            "Looking in indexes: https://pypi.org/simple, https://us-python.pkg.dev/colab-wheels/public/simple/\n",
            "Requirement already satisfied: Pillow in /usr/local/lib/python3.10/dist-packages (8.4.0)\n"
          ]
        }
      ]
    },
    {
      "cell_type": "code",
      "source": [
        "!sudo pip3 install keras"
      ],
      "metadata": {
        "colab": {
          "base_uri": "https://localhost:8080/"
        },
        "id": "sShnMC0qea60",
        "outputId": "9144a1d6-ea12-4145-dcb3-a4b9c5d16d16"
      },
      "execution_count": 3,
      "outputs": [
        {
          "output_type": "stream",
          "name": "stdout",
          "text": [
            "Looking in indexes: https://pypi.org/simple, https://us-python.pkg.dev/colab-wheels/public/simple/\n",
            "Requirement already satisfied: keras in /usr/local/lib/python3.10/dist-packages (2.12.0)\n"
          ]
        }
      ]
    },
    {
      "cell_type": "code",
      "source": [
        "import matplotlib.pyplot as plotter_lib\n",
        "import numpy as np\n",
        "import PIL as image_lib\n",
        "import tensorflow as tflow\n",
        "from tensorflow.keras.layers import Flatten\n",
        "from keras.layers.core import Dense\n",
        "from tensorflow.keras.models import Sequential\n",
        "from tensorflow.keras.optimizers import Adam\n",
        "import matplotlib.pyplot as plotter_lib"
      ],
      "metadata": {
        "id": "Ao6-nTLxZoYy"
      },
      "execution_count": 4,
      "outputs": []
    },
    {
      "cell_type": "code",
      "source": [
        "img_height, img_width= 46, 46\n",
        "\n",
        "batch_size=16\n",
        "train_ds = tflow.keras.preprocessing.image_dataset_from_directory(DATA_PATH, validation_split=0.2, subset=\"training\", seed=123, label_mode='categorical', \n",
        "                                                                  image_size=(img_height, img_width),batch_size=batch_size)"
      ],
      "metadata": {
        "colab": {
          "base_uri": "https://localhost:8080/"
        },
        "id": "UhUBtcjicTlF",
        "outputId": "39dcd2ae-81bf-40e0-dd7e-e38b14dfd51d"
      },
      "execution_count": 5,
      "outputs": [
        {
          "output_type": "stream",
          "name": "stdout",
          "text": [
            "Found 693 files belonging to 7 classes.\n",
            "Using 555 files for training.\n"
          ]
        }
      ]
    },
    {
      "cell_type": "code",
      "source": [
        "validation_ds = tflow.keras.preprocessing.image_dataset_from_directory(DATA_PATH, validation_split=0.2, subset=\"validation\", seed=123, label_mode='categorical',\n",
        "                                                                       image_size=(img_height, img_width), batch_size=batch_size)"
      ],
      "metadata": {
        "colab": {
          "base_uri": "https://localhost:8080/"
        },
        "id": "vqGssAeuceYA",
        "outputId": "5d3bfa87-4c86-490d-f4e1-b97a8a52ceac"
      },
      "execution_count": 6,
      "outputs": [
        {
          "output_type": "stream",
          "name": "stdout",
          "text": [
            "Found 693 files belonging to 7 classes.\n",
            "Using 138 files for validation.\n"
          ]
        }
      ]
    },
    {
      "cell_type": "code",
      "source": [
        "plotter_lib.figure(figsize=(10, 10))\n",
        "\n",
        "epochs=10\n",
        "\n",
        "for images, labels in train_ds.take(1):\n",
        "  for var in range(6):\n",
        "    ax = plotter_lib.subplot(3, 3, var + 1)\n",
        "    plotter_lib.imshow(images[var].numpy().astype(\"uint8\"))\n",
        "    plotter_lib.axis(\"off\")"
      ],
      "metadata": {
        "colab": {
          "base_uri": "https://localhost:8080/",
          "height": 535
        },
        "id": "c_ZjCd8Ocoe9",
        "outputId": "471ea6d2-3a3c-4d52-c777-f2c6c34b5e2a"
      },
      "execution_count": 7,
      "outputs": [
        {
          "output_type": "display_data",
          "data": {
            "text/plain": [
              "<Figure size 1000x1000 with 6 Axes>"
            ],
            "image/png": "[encoded data removed]"
          },
          "metadata": {}
        }
      ]
    },
    {
      "cell_type": "code",
      "source": [
        "demo_resnet_model = Sequential()\n",
        "\n",
        "pretrained_model_for_demo= tflow.keras.applications.ResNet50(include_top=False,\n",
        "                   input_shape=(46, 46, 3),\n",
        "                   pooling='avg',classes=6,\n",
        "                   weights='imagenet')\n",
        "\n",
        "for each_layer in pretrained_model_for_demo.layers:\n",
        "        each_layer.trainable=False\n",
        "\n",
        "demo_resnet_model.add(pretrained_model_for_demo)"
      ],
      "metadata": {
        "id": "x5AL4HSdc3EP",
        "colab": {
          "base_uri": "https://localhost:8080/"
        },
        "outputId": "a9fac784-3b37-43c5-dc56-3fd8f3ddc9c1"
      },
      "execution_count": 8,
      "outputs": [
        {
          "output_type": "stream",
          "name": "stdout",
          "text": [
            "Downloading data from https://storage.googleapis.com/tensorflow/keras-applications/resnet/resnet50_weights_tf_dim_ordering_tf_kernels_notop.h5\n",
            "94765736/94765736 [==============================] - 5s 0us/step\n"
          ]
        }
      ]
    },
    {
      "cell_type": "code",
      "source": [
        "demo_resnet_model.add(Flatten())\n",
        "demo_resnet_model.add(Dense(512, activation='relu'))\n",
        "demo_resnet_model.add(Dense(7, activation='softmax'))\n",
        "\n",
        "demo_resnet_model.compile(optimizer = tflow.keras.optimizers.SGD(learning_rate=0.1), loss = 'binary_crossentropy', metrics = ['acc'])"
      ],
      "metadata": {
        "id": "tw4dyIA3c8_9"
      },
      "execution_count": 9,
      "outputs": []
    },
    {
      "cell_type": "code",
      "source": [
        "demo_resnet_model.fit(train_ds, epochs=100, validation_data = validation_ds)"
      ],
      "metadata": {
        "colab": {
          "base_uri": "https://localhost:8080/"
        },
        "id": "H90u0VVS8Oek",
        "outputId": "a75af972-654e-446e-d284-ffd7bbcd807c"
      },
      "execution_count": 10,
      "outputs": [
        {
          "output_type": "stream",
          "name": "stdout",
          "text": [
            "Epoch 1/100\n",
            "35/35 [==============================] - 19s 106ms/step - loss: 0.4229 - acc: 0.5153 - val_loss: 0.2261 - val_acc: 0.6522\n",
            "Epoch 2/100\n",
            "35/35 [==============================] - 1s 17ms/step - loss: 0.1732 - acc: 0.7766 - val_loss: 0.2036 - val_acc: 0.7101\n",
            "Epoch 3/100\n",
            "35/35 [==============================] - 1s 40ms/step - loss: 0.1276 - acc: 0.8577 - val_loss: 0.2010 - val_acc: 0.7464\n",
            "Epoch 4/100\n",
            "35/35 [==============================] - 1s 20ms/step - loss: 0.1008 - acc: 0.9063 - val_loss: 0.1657 - val_acc: 0.7609\n",
            "Epoch 5/100\n",
            "35/35 [==============================] - 1s 18ms/step - loss: 0.0875 - acc: 0.9189 - val_loss: 0.2004 - val_acc: 0.7246\n",
            "Epoch 6/100\n",
            "35/35 [==============================] - 1s 18ms/step - loss: 0.0713 - acc: 0.9405 - val_loss: 0.1819 - val_acc: 0.7681\n",
            "Epoch 7/100\n",
            "35/35 [==============================] - 1s 18ms/step - loss: 0.0582 - acc: 0.9532 - val_loss: 0.1742 - val_acc: 0.7826\n",
            "Epoch 8/100\n",
            "35/35 [==============================] - 1s 18ms/step - loss: 0.0494 - acc: 0.9622 - val_loss: 0.1720 - val_acc: 0.7609\n",
            "Epoch 9/100\n",
            "35/35 [==============================] - 1s 17ms/step - loss: 0.0426 - acc: 0.9802 - val_loss: 0.1652 - val_acc: 0.8188\n",
            "Epoch 10/100\n",
            "35/35 [==============================] - 1s 18ms/step - loss: 0.0381 - acc: 0.9802 - val_loss: 0.1643 - val_acc: 0.8188\n",
            "Epoch 11/100\n",
            "35/35 [==============================] - 1s 17ms/step - loss: 0.0345 - acc: 0.9802 - val_loss: 0.1658 - val_acc: 0.7609\n",
            "Epoch 12/100\n",
            "35/35 [==============================] - 1s 18ms/step - loss: 0.0316 - acc: 0.9892 - val_loss: 0.1674 - val_acc: 0.7899\n",
            "Epoch 13/100\n",
            "35/35 [==============================] - 1s 18ms/step - loss: 0.0292 - acc: 0.9784 - val_loss: 0.1607 - val_acc: 0.8043\n",
            "Epoch 14/100\n",
            "35/35 [==============================] - 1s 18ms/step - loss: 0.0269 - acc: 0.9892 - val_loss: 0.1657 - val_acc: 0.8116\n",
            "Epoch 15/100\n",
            "35/35 [==============================] - 1s 17ms/step - loss: 0.0250 - acc: 0.9910 - val_loss: 0.1657 - val_acc: 0.7681\n",
            "Epoch 16/100\n",
            "35/35 [==============================] - 1s 17ms/step - loss: 0.0228 - acc: 0.9910 - val_loss: 0.1655 - val_acc: 0.7971\n",
            "Epoch 17/100\n",
            "35/35 [==============================] - 1s 24ms/step - loss: 0.0216 - acc: 0.9910 - val_loss: 0.1631 - val_acc: 0.7536\n",
            "Epoch 18/100\n",
            "35/35 [==============================] - 1s 23ms/step - loss: 0.0195 - acc: 0.9928 - val_loss: 0.1705 - val_acc: 0.7464\n",
            "Epoch 19/100\n",
            "35/35 [==============================] - 1s 18ms/step - loss: 0.0200 - acc: 0.9928 - val_loss: 0.1608 - val_acc: 0.8043\n",
            "Epoch 20/100\n",
            "35/35 [==============================] - 1s 18ms/step - loss: 0.0182 - acc: 0.9910 - val_loss: 0.1678 - val_acc: 0.7971\n",
            "Epoch 21/100\n",
            "35/35 [==============================] - 1s 17ms/step - loss: 0.0170 - acc: 0.9928 - val_loss: 0.1616 - val_acc: 0.8188\n",
            "Epoch 22/100\n",
            "35/35 [==============================] - 1s 18ms/step - loss: 0.0167 - acc: 0.9946 - val_loss: 0.1638 - val_acc: 0.8116\n",
            "Epoch 23/100\n",
            "35/35 [==============================] - 1s 17ms/step - loss: 0.0156 - acc: 0.9964 - val_loss: 0.1802 - val_acc: 0.7754\n",
            "Epoch 24/100\n",
            "35/35 [==============================] - 1s 17ms/step - loss: 0.0140 - acc: 0.9946 - val_loss: 0.1729 - val_acc: 0.7971\n",
            "Epoch 25/100\n",
            "35/35 [==============================] - 1s 18ms/step - loss: 0.0130 - acc: 0.9946 - val_loss: 0.1696 - val_acc: 0.8043\n",
            "Epoch 26/100\n",
            "35/35 [==============================] - 1s 17ms/step - loss: 0.0141 - acc: 0.9946 - val_loss: 0.1762 - val_acc: 0.7826\n",
            "Epoch 27/100\n",
            "35/35 [==============================] - 1s 17ms/step - loss: 0.0134 - acc: 0.9946 - val_loss: 0.1719 - val_acc: 0.7826\n",
            "Epoch 28/100\n",
            "35/35 [==============================] - 1s 27ms/step - loss: 0.0129 - acc: 0.9964 - val_loss: 0.1733 - val_acc: 0.7971\n",
            "Epoch 29/100\n",
            "35/35 [==============================] - 1s 18ms/step - loss: 0.0123 - acc: 0.9964 - val_loss: 0.1711 - val_acc: 0.8043\n",
            "Epoch 30/100\n",
            "35/35 [==============================] - 1s 41ms/step - loss: 0.0120 - acc: 0.9964 - val_loss: 0.1737 - val_acc: 0.7971\n",
            "Epoch 31/100\n",
            "35/35 [==============================] - 1s 36ms/step - loss: 0.0119 - acc: 0.9964 - val_loss: 0.1741 - val_acc: 0.7971\n",
            "Epoch 32/100\n",
            "35/35 [==============================] - 1s 34ms/step - loss: 0.0114 - acc: 0.9946 - val_loss: 0.1767 - val_acc: 0.8116\n",
            "Epoch 33/100\n",
            "35/35 [==============================] - 1s 31ms/step - loss: 0.0110 - acc: 0.9964 - val_loss: 0.1817 - val_acc: 0.8043\n",
            "Epoch 34/100\n",
            "35/35 [==============================] - 1s 31ms/step - loss: 0.0106 - acc: 0.9964 - val_loss: 0.1783 - val_acc: 0.7899\n",
            "Epoch 35/100\n",
            "35/35 [==============================] - 1s 32ms/step - loss: 0.0105 - acc: 0.9964 - val_loss: 0.1761 - val_acc: 0.8043\n",
            "Epoch 36/100\n",
            "35/35 [==============================] - 1s 27ms/step - loss: 0.0098 - acc: 0.9964 - val_loss: 0.1796 - val_acc: 0.7971\n",
            "Epoch 37/100\n",
            "35/35 [==============================] - 1s 31ms/step - loss: 0.0101 - acc: 0.9964 - val_loss: 0.1762 - val_acc: 0.7681\n",
            "Epoch 38/100\n",
            "35/35 [==============================] - 1s 38ms/step - loss: 0.0097 - acc: 0.9964 - val_loss: 0.1779 - val_acc: 0.8116\n",
            "Epoch 39/100\n",
            "35/35 [==============================] - 1s 32ms/step - loss: 0.0100 - acc: 0.9964 - val_loss: 0.1797 - val_acc: 0.8043\n",
            "Epoch 40/100\n",
            "35/35 [==============================] - 2s 49ms/step - loss: 0.0090 - acc: 0.9964 - val_loss: 0.1788 - val_acc: 0.7971\n",
            "Epoch 41/100\n",
            "35/35 [==============================] - 2s 37ms/step - loss: 0.0089 - acc: 0.9964 - val_loss: 0.1815 - val_acc: 0.8043\n",
            "Epoch 42/100\n",
            "35/35 [==============================] - 1s 25ms/step - loss: 0.0093 - acc: 0.9964 - val_loss: 0.1798 - val_acc: 0.7899\n",
            "Epoch 43/100\n",
            "35/35 [==============================] - 1s 18ms/step - loss: 0.0085 - acc: 0.9964 - val_loss: 0.1804 - val_acc: 0.7971\n",
            "Epoch 44/100\n",
            "35/35 [==============================] - 1s 17ms/step - loss: 0.0082 - acc: 0.9964 - val_loss: 0.1814 - val_acc: 0.7971\n",
            "Epoch 45/100\n",
            "35/35 [==============================] - 1s 18ms/step - loss: 0.0084 - acc: 0.9964 - val_loss: 0.1811 - val_acc: 0.8043\n",
            "Epoch 46/100\n",
            "35/35 [==============================] - 1s 17ms/step - loss: 0.0083 - acc: 0.9964 - val_loss: 0.1841 - val_acc: 0.7899\n",
            "Epoch 47/100\n",
            "35/35 [==============================] - 1s 27ms/step - loss: 0.0080 - acc: 0.9964 - val_loss: 0.1835 - val_acc: 0.8116\n",
            "Epoch 48/100\n",
            "35/35 [==============================] - 1s 18ms/step - loss: 0.0077 - acc: 0.9964 - val_loss: 0.1821 - val_acc: 0.7899\n",
            "Epoch 49/100\n",
            "35/35 [==============================] - 1s 17ms/step - loss: 0.0077 - acc: 0.9964 - val_loss: 0.1830 - val_acc: 0.8188\n",
            "Epoch 50/100\n",
            "35/35 [==============================] - 1s 17ms/step - loss: 0.0073 - acc: 0.9964 - val_loss: 0.1828 - val_acc: 0.7826\n",
            "Epoch 51/100\n",
            "35/35 [==============================] - 1s 17ms/step - loss: 0.0070 - acc: 0.9982 - val_loss: 0.1893 - val_acc: 0.7971\n",
            "Epoch 52/100\n",
            "35/35 [==============================] - 1s 19ms/step - loss: 0.0057 - acc: 0.9982 - val_loss: 0.1836 - val_acc: 0.8043\n",
            "Epoch 53/100\n",
            "35/35 [==============================] - 1s 24ms/step - loss: 0.0071 - acc: 0.9964 - val_loss: 0.1838 - val_acc: 0.8043\n",
            "Epoch 54/100\n",
            "35/35 [==============================] - 1s 17ms/step - loss: 0.0068 - acc: 0.9964 - val_loss: 0.1855 - val_acc: 0.7971\n",
            "Epoch 55/100\n",
            "35/35 [==============================] - 1s 17ms/step - loss: 0.0069 - acc: 0.9964 - val_loss: 0.1893 - val_acc: 0.7899\n",
            "Epoch 56/100\n",
            "35/35 [==============================] - 1s 17ms/step - loss: 0.0065 - acc: 0.9964 - val_loss: 0.1864 - val_acc: 0.7971\n",
            "Epoch 57/100\n",
            "35/35 [==============================] - 1s 17ms/step - loss: 0.0067 - acc: 0.9964 - val_loss: 0.1869 - val_acc: 0.8043\n",
            "Epoch 58/100\n",
            "35/35 [==============================] - 1s 17ms/step - loss: 0.0061 - acc: 0.9964 - val_loss: 0.1872 - val_acc: 0.8043\n",
            "Epoch 59/100\n",
            "35/35 [==============================] - 1s 17ms/step - loss: 0.0063 - acc: 0.9964 - val_loss: 0.1859 - val_acc: 0.7971\n",
            "Epoch 60/100\n",
            "35/35 [==============================] - 1s 17ms/step - loss: 0.0061 - acc: 0.9964 - val_loss: 0.1898 - val_acc: 0.7899\n",
            "Epoch 61/100\n",
            "35/35 [==============================] - 1s 17ms/step - loss: 0.0058 - acc: 0.9964 - val_loss: 0.1877 - val_acc: 0.8116\n",
            "Epoch 62/100\n",
            "35/35 [==============================] - 1s 17ms/step - loss: 0.0060 - acc: 0.9964 - val_loss: 0.1869 - val_acc: 0.7971\n",
            "Epoch 63/100\n",
            "35/35 [==============================] - 1s 17ms/step - loss: 0.0058 - acc: 0.9964 - val_loss: 0.1881 - val_acc: 0.7899\n",
            "Epoch 64/100\n",
            "35/35 [==============================] - 1s 17ms/step - loss: 0.0057 - acc: 0.9964 - val_loss: 0.1882 - val_acc: 0.7899\n",
            "Epoch 65/100\n",
            "35/35 [==============================] - 1s 17ms/step - loss: 0.0055 - acc: 0.9964 - val_loss: 0.1864 - val_acc: 0.8043\n",
            "Epoch 66/100\n",
            "35/35 [==============================] - 1s 18ms/step - loss: 0.0054 - acc: 0.9964 - val_loss: 0.1959 - val_acc: 0.8043\n",
            "Epoch 67/100\n",
            "35/35 [==============================] - 1s 25ms/step - loss: 0.0053 - acc: 0.9964 - val_loss: 0.2019 - val_acc: 0.7826\n",
            "Epoch 68/100\n",
            "35/35 [==============================] - 1s 29ms/step - loss: 0.0046 - acc: 0.9982 - val_loss: 0.1902 - val_acc: 0.8043\n",
            "Epoch 69/100\n",
            "35/35 [==============================] - 1s 18ms/step - loss: 0.0053 - acc: 0.9964 - val_loss: 0.1926 - val_acc: 0.7899\n",
            "Epoch 70/100\n",
            "35/35 [==============================] - 1s 18ms/step - loss: 0.0053 - acc: 0.9964 - val_loss: 0.1925 - val_acc: 0.7899\n",
            "Epoch 71/100\n",
            "35/35 [==============================] - 1s 17ms/step - loss: 0.0052 - acc: 0.9964 - val_loss: 0.1924 - val_acc: 0.7899\n",
            "Epoch 72/100\n",
            "35/35 [==============================] - 1s 18ms/step - loss: 0.0052 - acc: 0.9964 - val_loss: 0.1916 - val_acc: 0.7899\n",
            "Epoch 73/100\n",
            "35/35 [==============================] - 1s 17ms/step - loss: 0.0051 - acc: 0.9964 - val_loss: 0.1924 - val_acc: 0.7899\n",
            "Epoch 74/100\n",
            "35/35 [==============================] - 1s 17ms/step - loss: 0.0050 - acc: 0.9964 - val_loss: 0.1924 - val_acc: 0.7899\n",
            "Epoch 75/100\n",
            "35/35 [==============================] - 1s 18ms/step - loss: 0.0049 - acc: 0.9964 - val_loss: 0.1936 - val_acc: 0.7899\n",
            "Epoch 76/100\n",
            "35/35 [==============================] - 1s 18ms/step - loss: 0.0048 - acc: 0.9964 - val_loss: 0.1924 - val_acc: 0.8043\n",
            "Epoch 77/100\n",
            "35/35 [==============================] - 1s 17ms/step - loss: 0.0047 - acc: 0.9964 - val_loss: 0.1958 - val_acc: 0.7899\n",
            "Epoch 78/100\n",
            "35/35 [==============================] - 1s 18ms/step - loss: 0.0049 - acc: 0.9964 - val_loss: 0.1954 - val_acc: 0.7899\n",
            "Epoch 79/100\n",
            "35/35 [==============================] - 1s 17ms/step - loss: 0.0046 - acc: 0.9964 - val_loss: 0.1914 - val_acc: 0.7971\n",
            "Epoch 80/100\n",
            "35/35 [==============================] - 1s 26ms/step - loss: 0.0047 - acc: 0.9964 - val_loss: 0.1931 - val_acc: 0.7899\n",
            "Epoch 81/100\n",
            "35/35 [==============================] - 1s 26ms/step - loss: 0.0045 - acc: 0.9964 - val_loss: 0.1908 - val_acc: 0.7971\n",
            "Epoch 82/100\n",
            "35/35 [==============================] - 1s 19ms/step - loss: 0.0048 - acc: 0.9964 - val_loss: 0.1980 - val_acc: 0.7899\n",
            "Epoch 83/100\n",
            "35/35 [==============================] - 1s 18ms/step - loss: 0.0045 - acc: 0.9964 - val_loss: 0.1955 - val_acc: 0.7971\n",
            "Epoch 84/100\n",
            "35/35 [==============================] - 1s 18ms/step - loss: 0.0043 - acc: 0.9964 - val_loss: 0.1960 - val_acc: 0.8043\n",
            "Epoch 85/100\n",
            "35/35 [==============================] - 1s 17ms/step - loss: 0.0042 - acc: 0.9964 - val_loss: 0.1945 - val_acc: 0.7971\n",
            "Epoch 86/100\n",
            "35/35 [==============================] - 1s 17ms/step - loss: 0.0043 - acc: 0.9964 - val_loss: 0.1972 - val_acc: 0.7899\n",
            "Epoch 87/100\n",
            "35/35 [==============================] - 1s 17ms/step - loss: 0.0041 - acc: 0.9964 - val_loss: 0.1982 - val_acc: 0.7899\n",
            "Epoch 88/100\n",
            "35/35 [==============================] - 1s 17ms/step - loss: 0.0041 - acc: 0.9964 - val_loss: 0.1953 - val_acc: 0.7899\n",
            "Epoch 89/100\n",
            "35/35 [==============================] - 1s 17ms/step - loss: 0.0036 - acc: 0.9982 - val_loss: 0.2134 - val_acc: 0.7754\n",
            "Epoch 90/100\n",
            "35/35 [==============================] - 1s 17ms/step - loss: 0.0037 - acc: 0.9982 - val_loss: 0.1994 - val_acc: 0.7899\n",
            "Epoch 91/100\n",
            "35/35 [==============================] - 1s 17ms/step - loss: 0.0038 - acc: 0.9964 - val_loss: 0.2021 - val_acc: 0.8043\n",
            "Epoch 92/100\n",
            "35/35 [==============================] - 1s 17ms/step - loss: 0.0040 - acc: 0.9964 - val_loss: 0.1973 - val_acc: 0.7899\n",
            "Epoch 93/100\n",
            "35/35 [==============================] - 1s 18ms/step - loss: 0.0039 - acc: 0.9964 - val_loss: 0.1980 - val_acc: 0.7899\n",
            "Epoch 94/100\n",
            "35/35 [==============================] - 1s 28ms/step - loss: 0.0039 - acc: 0.9964 - val_loss: 0.1960 - val_acc: 0.7971\n",
            "Epoch 95/100\n",
            "35/35 [==============================] - 1s 29ms/step - loss: 0.0039 - acc: 0.9964 - val_loss: 0.1970 - val_acc: 0.7899\n",
            "Epoch 96/100\n",
            "35/35 [==============================] - 1s 17ms/step - loss: 0.0038 - acc: 0.9964 - val_loss: 0.1984 - val_acc: 0.7899\n",
            "Epoch 97/100\n",
            "35/35 [==============================] - 1s 18ms/step - loss: 0.0038 - acc: 0.9964 - val_loss: 0.1994 - val_acc: 0.7899\n",
            "Epoch 98/100\n",
            "35/35 [==============================] - 1s 17ms/step - loss: 0.0038 - acc: 0.9964 - val_loss: 0.1975 - val_acc: 0.7899\n",
            "Epoch 99/100\n",
            "35/35 [==============================] - 1s 18ms/step - loss: 0.0038 - acc: 0.9964 - val_loss: 0.1976 - val_acc: 0.7899\n",
            "Epoch 100/100\n",
            "35/35 [==============================] - 1s 26ms/step - loss: 0.0038 - acc: 0.9964 - val_loss: 0.1979 - val_acc: 0.7899\n"
          ]
        },
        {
          "output_type": "execute_result",
          "data": {
            "text/plain": [
              "<keras.callbacks.History at 0x7f48b40c9a20>"
            ]
          },
          "metadata": {},
          "execution_count": 10
        }
      ]
    }
  ]
}